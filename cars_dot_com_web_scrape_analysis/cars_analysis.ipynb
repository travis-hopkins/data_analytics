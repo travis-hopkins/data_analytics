{
 "cells": [
  {
   "cell_type": "code",
   "execution_count": 1,
   "id": "b43276a2-23e2-46f2-8fb3-4d19d055f2ba",
   "metadata": {},
   "outputs": [],
   "source": [
    "import pandas as pd\n",
    "import matplotlib.pyplot as plt\n",
    "import seaborn as sns"
   ]
  },
  {
   "cell_type": "code",
   "execution_count": 2,
   "id": "a90019f8-edd2-4431-b9aa-42b3b88dad30",
   "metadata": {},
   "outputs": [],
   "source": [
    "df = pd.read_csv('cars_by_popular_city.csv')"
   ]
  },
  {
   "cell_type": "code",
   "execution_count": 3,
   "id": "514e3ec4-ad3e-47d7-a43a-d75ca0ac40b9",
   "metadata": {},
   "outputs": [
    {
     "data": {
      "text/plain": [
       "(2558, 14)"
      ]
     },
     "execution_count": 3,
     "metadata": {},
     "output_type": "execute_result"
    }
   ],
   "source": [
    "df.shape"
   ]
  },
  {
   "cell_type": "code",
   "execution_count": 4,
   "id": "4da66f99-83c6-4031-b0f7-05cbb305c619",
   "metadata": {},
   "outputs": [
    {
     "data": {
      "text/plain": [
       "Index(['Location', 'Zip_Code', 'Status', 'Year', 'Brand', 'Model', 'Mileage',\n",
       "       'Exterior_Color', 'Interior_Color', 'Drive_Train', 'MPG', 'Fuel_Type',\n",
       "       'Transmission', 'Engine'],\n",
       "      dtype='object')"
      ]
     },
     "execution_count": 4,
     "metadata": {},
     "output_type": "execute_result"
    }
   ],
   "source": [
    "df.columns"
   ]
  },
  {
   "cell_type": "code",
   "execution_count": 5,
   "id": "44e10e63-f938-4fc7-a817-239ef80d9a8a",
   "metadata": {},
   "outputs": [
    {
     "data": {
      "text/plain": [
       "Location\n",
       "atlanta-ga         219\n",
       "dallas-tx          219\n",
       "houston-tx         219\n",
       "seattle-wa         218\n",
       "san_diego-ca       217\n",
       "columbus-oh        216\n",
       "los_angeles-ca     215\n",
       "chicago-il         209\n",
       "phoenix-az         209\n",
       "denver-co          206\n",
       "philadelphia-pa    206\n",
       "new_york-ny        205\n",
       "Name: count, dtype: int64"
      ]
     },
     "execution_count": 5,
     "metadata": {},
     "output_type": "execute_result"
    }
   ],
   "source": [
    "df['Location'].value_counts()"
   ]
  },
  {
   "cell_type": "code",
   "execution_count": 6,
   "id": "9c5dbf94-28fe-400a-bce4-9b577a70bd78",
   "metadata": {},
   "outputs": [
    {
     "data": {
      "text/plain": [
       "Brand\n",
       "Mercedes-Benz    229\n",
       "BMW              223\n",
       "Hyundai          145\n",
       "Ford             139\n",
       "Chevrolet        129\n",
       "                ... \n",
       "INEOS              1\n",
       "Maybach            1\n",
       "Panoz              1\n",
       "Karma              1\n",
       "Plymouth           1\n",
       "Name: count, Length: 62, dtype: int64"
      ]
     },
     "execution_count": 6,
     "metadata": {},
     "output_type": "execute_result"
    }
   ],
   "source": [
    "df['Brand'].value_counts()"
   ]
  },
  {
   "cell_type": "code",
   "execution_count": 7,
   "id": "e7672c31-f6ba-4768-962b-ee86d1fed2d4",
   "metadata": {},
   "outputs": [
    {
     "data": {
      "text/plain": [
       "Status\n",
       "Used                       1650\n",
       "New                         861\n",
       "Ferrari Certified            10\n",
       "Mercedes-Benz Certified       6\n",
       "McLaren Certified             5\n",
       "BMW Certified                 4\n",
       "Audi Certified                4\n",
       "Porsche Certified             3\n",
       "Chevrolet Certified           3\n",
       "Rolls-Royce Certified         2\n",
       "Subaru Certified              2\n",
       "Jeep Certified                1\n",
       "Ford Certified                1\n",
       "Volvo Certified               1\n",
       "Lincoln Certified             1\n",
       "Cadillac Certified            1\n",
       "Hyundai Certified             1\n",
       "Genesis Certified             1\n",
       "Aston Martin Certified        1\n",
       "Name: count, dtype: int64"
      ]
     },
     "execution_count": 7,
     "metadata": {},
     "output_type": "execute_result"
    }
   ],
   "source": [
    "df['Status'].value_counts()"
   ]
  },
  {
   "cell_type": "code",
   "execution_count": null,
   "id": "b463f8b9-7753-4620-b629-1033ddc3adcd",
   "metadata": {},
   "outputs": [],
   "source": []
  }
 ],
 "metadata": {
  "kernelspec": {
   "display_name": "Python 3 (ipykernel)",
   "language": "python",
   "name": "python3"
  },
  "language_info": {
   "codemirror_mode": {
    "name": "ipython",
    "version": 3
   },
   "file_extension": ".py",
   "mimetype": "text/x-python",
   "name": "python",
   "nbconvert_exporter": "python",
   "pygments_lexer": "ipython3",
   "version": "3.11.7"
  }
 },
 "nbformat": 4,
 "nbformat_minor": 5
}
